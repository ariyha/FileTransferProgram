{
 "cells": [
  {
   "cell_type": "code",
   "execution_count": 5,
   "metadata": {},
   "outputs": [
    {
     "name": "stdout",
     "output_type": "stream",
     "text": [
      "120535\n"
     ]
    }
   ],
   "source": [
    "from cryptography.fernet import Fernet\n",
    "import pickle\n",
    "\n",
    "key = Fernet.generate_key()\n",
    "fernet = Fernet(key)\n",
    "with open('mykey.bin','wb') as f:\n",
    "    pickle.dump(key,f)\n",
    "\n",
    "with open(\"C:/Users/nithi/Pictures/Screenshots/ss.png\",'rb') as f:\n",
    "    message = f.read()\n",
    "print(len(message))\n",
    "message = fernet.encrypt(message)\n",
    "\n",
    "with open('myfile.png','wb') as f:\n",
    "    f.write(message)\n"
   ]
  },
  {
   "cell_type": "code",
   "execution_count": 6,
   "metadata": {},
   "outputs": [
    {
     "name": "stdout",
     "output_type": "stream",
     "text": [
      "120535\n"
     ]
    }
   ],
   "source": [
    "with open('mykey.bin','rb') as f:\n",
    "    key = pickle.load(f)\n",
    "\n",
    "with open('myfile.png','rb') as f:\n",
    "    encMessage  = f.read()\n",
    "\n",
    "f2 = Fernet(key)\n",
    "decMessage = f2.decrypt(encMessage)\n",
    "\n",
    "with open('ss.png','wb') as f:\n",
    "    f.write(decMessage)\n",
    " \n",
    "print(len(decMessage))\n"
   ]
  }
 ],
 "metadata": {
  "kernelspec": {
   "display_name": "env",
   "language": "python",
   "name": "python3"
  },
  "language_info": {
   "codemirror_mode": {
    "name": "ipython",
    "version": 3
   },
   "file_extension": ".py",
   "mimetype": "text/x-python",
   "name": "python",
   "nbconvert_exporter": "python",
   "pygments_lexer": "ipython3",
   "version": "3.11.6"
  }
 },
 "nbformat": 4,
 "nbformat_minor": 2
}
